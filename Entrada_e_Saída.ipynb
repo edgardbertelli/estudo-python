{
  "nbformat": 4,
  "nbformat_minor": 0,
  "metadata": {
    "colab": {
      "provenance": [],
      "authorship_tag": "ABX9TyNReO5gdbpkfSLtBVJKtzQf",
      "include_colab_link": true
    },
    "kernelspec": {
      "name": "python3",
      "display_name": "Python 3"
    },
    "language_info": {
      "name": "python"
    }
  },
  "cells": [
    {
      "cell_type": "markdown",
      "metadata": {
        "id": "view-in-github",
        "colab_type": "text"
      },
      "source": [
        "<a href=\"https://colab.research.google.com/github/edgardbertelli/estudo-python/blob/main/Entrada_e_Sa%C3%ADda.ipynb\" target=\"_parent\"><img src=\"https://colab.research.google.com/assets/colab-badge.svg\" alt=\"Open In Colab\"/></a>"
      ]
    },
    {
      "cell_type": "markdown",
      "source": [
        "# Entrada e Saída"
      ],
      "metadata": {
        "id": "f2L8QJusjWLu"
      }
    },
    {
      "cell_type": "markdown",
      "source": [
        "## Refinando a formatação de saída"
      ],
      "metadata": {
        "id": "VeCPIc95jdxr"
      }
    },
    {
      "cell_type": "code",
      "execution_count": 41,
      "metadata": {
        "id": "nel4NKCtjU9u"
      },
      "outputs": [],
      "source": [
        "year = 2016"
      ]
    },
    {
      "cell_type": "code",
      "source": [
        "event = 'Referendum'"
      ],
      "metadata": {
        "id": "CPgm8T39jYCC"
      },
      "execution_count": 42,
      "outputs": []
    },
    {
      "cell_type": "code",
      "source": [
        "f'Results of the {year} {event}'"
      ],
      "metadata": {
        "colab": {
          "base_uri": "https://localhost:8080/",
          "height": 35
        },
        "id": "oLGoycMVjzm7",
        "outputId": "76018103-43a6-41d0-ecca-e61e0ead1d34"
      },
      "execution_count": 43,
      "outputs": [
        {
          "output_type": "execute_result",
          "data": {
            "text/plain": [
              "'Results of the 2016 Referendum'"
            ],
            "application/vnd.google.colaboratory.intrinsic+json": {
              "type": "string"
            }
          },
          "metadata": {},
          "execution_count": 43
        }
      ]
    },
    {
      "cell_type": "code",
      "source": [
        "yes_votes = 42_572_654"
      ],
      "metadata": {
        "id": "VDl03eZxj3U3"
      },
      "execution_count": 44,
      "outputs": []
    },
    {
      "cell_type": "code",
      "source": [
        "no_votes = 43_132_495"
      ],
      "metadata": {
        "id": "E1X17nI8kBdT"
      },
      "execution_count": 45,
      "outputs": []
    },
    {
      "cell_type": "code",
      "source": [
        "percentage = yes_votes / (yes_votes + no_votes)"
      ],
      "metadata": {
        "id": "Ie4UbYpkkEuZ"
      },
      "execution_count": 46,
      "outputs": []
    },
    {
      "cell_type": "code",
      "source": [
        "'{:-9} YES votes {:2.2%}'.format(yes_votes, percentage)"
      ],
      "metadata": {
        "colab": {
          "base_uri": "https://localhost:8080/",
          "height": 35
        },
        "id": "c4huUWWvkKpx",
        "outputId": "08a17057-f9e6-4682-d4bf-01a0443d9a40"
      },
      "execution_count": 47,
      "outputs": [
        {
          "output_type": "execute_result",
          "data": {
            "text/plain": [
              "' 42572654 YES votes 49.67%'"
            ],
            "application/vnd.google.colaboratory.intrinsic+json": {
              "type": "string"
            }
          },
          "metadata": {},
          "execution_count": 47
        }
      ]
    },
    {
      "cell_type": "code",
      "source": [
        "s = 'Hello, world'"
      ],
      "metadata": {
        "id": "w3pfB4-IkTsm"
      },
      "execution_count": 48,
      "outputs": []
    },
    {
      "cell_type": "code",
      "source": [
        "str(s)"
      ],
      "metadata": {
        "colab": {
          "base_uri": "https://localhost:8080/",
          "height": 35
        },
        "id": "xjpQszadkqny",
        "outputId": "72e0b4c6-8316-41b4-f3e3-2927fbe8ed8f"
      },
      "execution_count": 49,
      "outputs": [
        {
          "output_type": "execute_result",
          "data": {
            "text/plain": [
              "'Hello, world'"
            ],
            "application/vnd.google.colaboratory.intrinsic+json": {
              "type": "string"
            }
          },
          "metadata": {},
          "execution_count": 49
        }
      ]
    },
    {
      "cell_type": "code",
      "source": [
        "repr(s)"
      ],
      "metadata": {
        "colab": {
          "base_uri": "https://localhost:8080/",
          "height": 35
        },
        "id": "NmCCgBl8krmR",
        "outputId": "de67f702-6a63-40d2-f8af-ac5628a8c37c"
      },
      "execution_count": 50,
      "outputs": [
        {
          "output_type": "execute_result",
          "data": {
            "text/plain": [
              "\"'Hello, world'\""
            ],
            "application/vnd.google.colaboratory.intrinsic+json": {
              "type": "string"
            }
          },
          "metadata": {},
          "execution_count": 50
        }
      ]
    },
    {
      "cell_type": "code",
      "source": [
        "str(1/7)"
      ],
      "metadata": {
        "colab": {
          "base_uri": "https://localhost:8080/",
          "height": 35
        },
        "id": "P2mabPYfktpR",
        "outputId": "b651e3f7-b9e8-43bc-833c-0f5617739d27"
      },
      "execution_count": 51,
      "outputs": [
        {
          "output_type": "execute_result",
          "data": {
            "text/plain": [
              "'0.14285714285714285'"
            ],
            "application/vnd.google.colaboratory.intrinsic+json": {
              "type": "string"
            }
          },
          "metadata": {},
          "execution_count": 51
        }
      ]
    },
    {
      "cell_type": "code",
      "source": [
        "x = 10 * 3.25"
      ],
      "metadata": {
        "id": "TAQtPWiHkw9S"
      },
      "execution_count": 52,
      "outputs": []
    },
    {
      "cell_type": "code",
      "source": [
        "y = 200 * 200"
      ],
      "metadata": {
        "id": "zAV0tn8lk0tI"
      },
      "execution_count": 53,
      "outputs": []
    },
    {
      "cell_type": "code",
      "source": [
        "s = 'The value of x is ' + repr(x) + ', and y is ' + repr(y) + '...'"
      ],
      "metadata": {
        "id": "8pZQARyOk2Wv"
      },
      "execution_count": 54,
      "outputs": []
    },
    {
      "cell_type": "code",
      "source": [
        "print(s)"
      ],
      "metadata": {
        "colab": {
          "base_uri": "https://localhost:8080/"
        },
        "id": "Jufro95fk-2I",
        "outputId": "7bd208e3-2ecb-432e-b4cf-473074c51fd8"
      },
      "execution_count": 55,
      "outputs": [
        {
          "output_type": "stream",
          "name": "stdout",
          "text": [
            "The value of x is 32.5, and y is 40000...\n"
          ]
        }
      ]
    },
    {
      "cell_type": "code",
      "source": [
        "# The repr() of a string adds strings quotes and backlashes:\n",
        "hello = 'hello, world\\n'"
      ],
      "metadata": {
        "id": "yww5V_tYlAtY"
      },
      "execution_count": 56,
      "outputs": []
    },
    {
      "cell_type": "code",
      "source": [
        "hellos = repr(hello)"
      ],
      "metadata": {
        "id": "4xrEObh-lN8A"
      },
      "execution_count": 57,
      "outputs": []
    },
    {
      "cell_type": "code",
      "source": [
        "print(hellos)"
      ],
      "metadata": {
        "colab": {
          "base_uri": "https://localhost:8080/"
        },
        "id": "eYggDNaClPhA",
        "outputId": "2d774441-0d08-49ad-f220-5f4e54e36395"
      },
      "execution_count": 58,
      "outputs": [
        {
          "output_type": "stream",
          "name": "stdout",
          "text": [
            "'hello, world\\n'\n"
          ]
        }
      ]
    },
    {
      "cell_type": "code",
      "source": [
        "# The argument to repr() may be any Python object:\n",
        "repr((x, y, ('spam', 'eggs')))"
      ],
      "metadata": {
        "colab": {
          "base_uri": "https://localhost:8080/",
          "height": 35
        },
        "id": "u1K8fAFilQcY",
        "outputId": "696ee88a-f810-4066-b01b-857cadf226fb"
      },
      "execution_count": 59,
      "outputs": [
        {
          "output_type": "execute_result",
          "data": {
            "text/plain": [
              "\"(32.5, 40000, ('spam', 'eggs'))\""
            ],
            "application/vnd.google.colaboratory.intrinsic+json": {
              "type": "string"
            }
          },
          "metadata": {},
          "execution_count": 59
        }
      ]
    },
    {
      "cell_type": "markdown",
      "source": [
        "### Strings literais formatadas"
      ],
      "metadata": {
        "id": "g1nxD_pJliv3"
      }
    },
    {
      "cell_type": "code",
      "source": [
        "import math"
      ],
      "metadata": {
        "id": "cip6dDI-lZ1I"
      },
      "execution_count": 60,
      "outputs": []
    },
    {
      "cell_type": "code",
      "source": [
        "print(f'The value of pi is approximately {math.pi:.3f}')"
      ],
      "metadata": {
        "colab": {
          "base_uri": "https://localhost:8080/"
        },
        "id": "C4vbWlNLKX_M",
        "outputId": "118aac03-395c-4df0-bade-a67ab737d74d"
      },
      "execution_count": 61,
      "outputs": [
        {
          "output_type": "stream",
          "name": "stdout",
          "text": [
            "The value of pi is approximately 3.142\n"
          ]
        }
      ]
    },
    {
      "cell_type": "code",
      "source": [
        "table = {\n",
        "    'Sjoerd': 4127,\n",
        "    'Jack': 4098,\n",
        "    'Dcab': 7678\n",
        "}"
      ],
      "metadata": {
        "id": "UAoAF4AaKeJV"
      },
      "execution_count": 62,
      "outputs": []
    },
    {
      "cell_type": "code",
      "source": [
        "for name, phone in table.items():\n",
        "    print(f'{name:10} ==> {phone:10d}')\n"
      ],
      "metadata": {
        "colab": {
          "base_uri": "https://localhost:8080/"
        },
        "id": "oNFalVUSKuMi",
        "outputId": "93555cae-3111-4eb1-ea40-fc76a77d4d77"
      },
      "execution_count": 63,
      "outputs": [
        {
          "output_type": "stream",
          "name": "stdout",
          "text": [
            "Sjoerd     ==>       4127\n",
            "Jack       ==>       4098\n",
            "Dcab       ==>       7678\n"
          ]
        }
      ]
    },
    {
      "cell_type": "code",
      "source": [
        "animals = 'eels'"
      ],
      "metadata": {
        "id": "uBqpmLhLK6_Z"
      },
      "execution_count": 64,
      "outputs": []
    },
    {
      "cell_type": "code",
      "source": [
        "print(f'My hovercraft is full of {animals}.')"
      ],
      "metadata": {
        "colab": {
          "base_uri": "https://localhost:8080/"
        },
        "id": "vlYF6aHTLBmc",
        "outputId": "28fb8c45-34ec-4e9a-bd5e-777180b2643c"
      },
      "execution_count": 65,
      "outputs": [
        {
          "output_type": "stream",
          "name": "stdout",
          "text": [
            "My hovercraft is full of eels.\n"
          ]
        }
      ]
    },
    {
      "cell_type": "code",
      "source": [
        "print(f'My hovercraft is full of {animals!r}.')"
      ],
      "metadata": {
        "colab": {
          "base_uri": "https://localhost:8080/"
        },
        "id": "LwsUq8o0LFjr",
        "outputId": "f3be5f11-efb6-441c-ca64-f89e3a74ae69"
      },
      "execution_count": 66,
      "outputs": [
        {
          "output_type": "stream",
          "name": "stdout",
          "text": [
            "My hovercraft is full of 'eels'.\n"
          ]
        }
      ]
    },
    {
      "cell_type": "code",
      "source": [
        "bugs = 'roaches'"
      ],
      "metadata": {
        "id": "5ROXL9_vLMj5"
      },
      "execution_count": 67,
      "outputs": []
    },
    {
      "cell_type": "code",
      "source": [
        "count = 13"
      ],
      "metadata": {
        "id": "MJXYcdJJLSI1"
      },
      "execution_count": 68,
      "outputs": []
    },
    {
      "cell_type": "code",
      "source": [
        "area = 'living room'"
      ],
      "metadata": {
        "id": "2t9vDl6wLUsw"
      },
      "execution_count": 69,
      "outputs": []
    },
    {
      "cell_type": "code",
      "source": [
        "print(f'Debugging {bugs=} {count=} {area=}')"
      ],
      "metadata": {
        "colab": {
          "base_uri": "https://localhost:8080/"
        },
        "id": "fDCqfVOKLWQy",
        "outputId": "16f8d68d-0d8d-403f-d1af-b0f053daee87"
      },
      "execution_count": 70,
      "outputs": [
        {
          "output_type": "stream",
          "name": "stdout",
          "text": [
            "Debugging bugs='roaches' count=13 area='living room'\n"
          ]
        }
      ]
    },
    {
      "cell_type": "markdown",
      "source": [
        "### O método *format()*"
      ],
      "metadata": {
        "id": "uFOlDn8GLkiz"
      }
    },
    {
      "cell_type": "code",
      "source": [
        "print('We are the {} who say \"{}!\"'.format('knights', 'Ni'))"
      ],
      "metadata": {
        "colab": {
          "base_uri": "https://localhost:8080/"
        },
        "id": "u0hlpoX9LdEb",
        "outputId": "76b5db6f-0774-4e8f-dcba-15f9c81e8d9b"
      },
      "execution_count": 71,
      "outputs": [
        {
          "output_type": "stream",
          "name": "stdout",
          "text": [
            "We are the knights who say \"Ni!\"\n"
          ]
        }
      ]
    },
    {
      "cell_type": "code",
      "source": [
        "print('{0} and {1}'.format('spam', 'eggs'))"
      ],
      "metadata": {
        "colab": {
          "base_uri": "https://localhost:8080/"
        },
        "id": "hiiT03AoL_fh",
        "outputId": "ea31f134-d732-4a38-ebfe-14020da90099"
      },
      "execution_count": 72,
      "outputs": [
        {
          "output_type": "stream",
          "name": "stdout",
          "text": [
            "spam and eggs\n"
          ]
        }
      ]
    },
    {
      "cell_type": "code",
      "source": [
        "print('{1} and {0}'.format('spam', 'eggs'))"
      ],
      "metadata": {
        "colab": {
          "base_uri": "https://localhost:8080/"
        },
        "id": "jlMxg8uLMLLp",
        "outputId": "057845d7-0ced-40ad-d9df-ad74c23b022b"
      },
      "execution_count": 73,
      "outputs": [
        {
          "output_type": "stream",
          "name": "stdout",
          "text": [
            "eggs and spam\n"
          ]
        }
      ]
    },
    {
      "cell_type": "code",
      "source": [
        "print('This {food} is {adjective}.'.format(\n",
        "    food='spam', adjective='absolutely horrible'))"
      ],
      "metadata": {
        "colab": {
          "base_uri": "https://localhost:8080/"
        },
        "id": "EFUDyacwMS5W",
        "outputId": "da6af668-be86-4482-cdba-e436e53b48f3"
      },
      "execution_count": 74,
      "outputs": [
        {
          "output_type": "stream",
          "name": "stdout",
          "text": [
            "This spam is absolutely horrible.\n"
          ]
        }
      ]
    },
    {
      "cell_type": "code",
      "source": [
        "print('The story of {0}, {1}, and {other}.'.format('Bill', 'Manfred',\n",
        "                                                   other='Georg'))"
      ],
      "metadata": {
        "colab": {
          "base_uri": "https://localhost:8080/"
        },
        "id": "4EsIEKvfMkNq",
        "outputId": "e85916ba-2b01-4845-90ad-500364e08507"
      },
      "execution_count": 75,
      "outputs": [
        {
          "output_type": "stream",
          "name": "stdout",
          "text": [
            "The story of Bill, Manfred, and Georg.\n"
          ]
        }
      ]
    },
    {
      "cell_type": "code",
      "source": [
        "table = {\n",
        "    'Sjoerd': 4127,\n",
        "    'Jack': 4098,\n",
        "    'Dcab': 8697678\n",
        "}"
      ],
      "metadata": {
        "id": "onAGMkBQMxVV"
      },
      "execution_count": 76,
      "outputs": []
    },
    {
      "cell_type": "code",
      "source": [
        "print('Jack: {0[Jack]:d}; Sjoerd: {0[Sjoerd]:d}; '\n",
        "      'Dcab: {0[Dcab]:d}'.format(table))"
      ],
      "metadata": {
        "colab": {
          "base_uri": "https://localhost:8080/"
        },
        "id": "25MFyDq6M9bT",
        "outputId": "77d3576a-ac9f-4e86-c63a-3285e8f0df34"
      },
      "execution_count": 77,
      "outputs": [
        {
          "output_type": "stream",
          "name": "stdout",
          "text": [
            "Jack: 4098; Sjoerd: 4127; Dcab: 8697678\n"
          ]
        }
      ]
    },
    {
      "cell_type": "code",
      "source": [
        "table = {\n",
        "    'Sjoerd': 4127,\n",
        "    'Jack': 4098,\n",
        "    'Dcab': 8637678\n",
        "}"
      ],
      "metadata": {
        "id": "lcmvgerYNg1K"
      },
      "execution_count": 78,
      "outputs": []
    },
    {
      "cell_type": "code",
      "source": [
        "print('Jack: {Jack:d}; Sjoerd: {Sjoerd:d}; Dcab: {Dcab:d}'.format(**table))"
      ],
      "metadata": {
        "colab": {
          "base_uri": "https://localhost:8080/"
        },
        "id": "8xCnubF5Np8i",
        "outputId": "524b4658-a658-44f1-98bc-56378d90b036"
      },
      "execution_count": 79,
      "outputs": [
        {
          "output_type": "stream",
          "name": "stdout",
          "text": [
            "Jack: 4098; Sjoerd: 4127; Dcab: 8637678\n"
          ]
        }
      ]
    },
    {
      "cell_type": "code",
      "source": [
        "for x in range(1, 11):\n",
        "    print('{0:2d} {1:3d} {2:4d}'.format(x, x*x, x*x*x))"
      ],
      "metadata": {
        "colab": {
          "base_uri": "https://localhost:8080/"
        },
        "id": "1vBn33N3N4Iy",
        "outputId": "e8901a7f-fe91-4640-ea80-a16321b2088e"
      },
      "execution_count": 80,
      "outputs": [
        {
          "output_type": "stream",
          "name": "stdout",
          "text": [
            " 1   1    1\n",
            " 2   4    8\n",
            " 3   9   27\n",
            " 4  16   64\n",
            " 5  25  125\n",
            " 6  36  216\n",
            " 7  49  343\n",
            " 8  64  512\n",
            " 9  81  729\n",
            "10 100 1000\n"
          ]
        }
      ]
    },
    {
      "cell_type": "markdown",
      "source": [
        "### Formatação manual de string"
      ],
      "metadata": {
        "id": "R-FwBwFwOPQQ"
      }
    },
    {
      "cell_type": "code",
      "source": [
        "for x in range(1, 11):\n",
        "    print(repr(x).rjust(2), repr(x*x).rjust(3), end=' ')\n",
        "    # Not use of 'end' on previous line\n",
        "    print(repr(x*x*x).rjust(4))\n"
      ],
      "metadata": {
        "colab": {
          "base_uri": "https://localhost:8080/"
        },
        "id": "uTXQKYYwOGnB",
        "outputId": "84b59f14-cdb4-4bee-d9fa-836b35136abe"
      },
      "execution_count": 81,
      "outputs": [
        {
          "output_type": "stream",
          "name": "stdout",
          "text": [
            " 1   1    1\n",
            " 2   4    8\n",
            " 3   9   27\n",
            " 4  16   64\n",
            " 5  25  125\n",
            " 6  36  216\n",
            " 7  49  343\n",
            " 8  64  512\n",
            " 9  81  729\n",
            "10 100 1000\n"
          ]
        }
      ]
    },
    {
      "cell_type": "code",
      "source": [
        "'12'.zfill(5)"
      ],
      "metadata": {
        "colab": {
          "base_uri": "https://localhost:8080/",
          "height": 35
        },
        "id": "W4Yq8V-Nizx9",
        "outputId": "565d17ae-d00a-4cca-c6d0-ff89a1068977"
      },
      "execution_count": 83,
      "outputs": [
        {
          "output_type": "execute_result",
          "data": {
            "text/plain": [
              "'00012'"
            ],
            "application/vnd.google.colaboratory.intrinsic+json": {
              "type": "string"
            }
          },
          "metadata": {},
          "execution_count": 83
        }
      ]
    },
    {
      "cell_type": "code",
      "source": [
        "'-3.14'.zfill(7)"
      ],
      "metadata": {
        "colab": {
          "base_uri": "https://localhost:8080/",
          "height": 35
        },
        "id": "64z5_CRZjEtW",
        "outputId": "664d9c01-20bf-45ea-9962-8a10e961e409"
      },
      "execution_count": 84,
      "outputs": [
        {
          "output_type": "execute_result",
          "data": {
            "text/plain": [
              "'-003.14'"
            ],
            "application/vnd.google.colaboratory.intrinsic+json": {
              "type": "string"
            }
          },
          "metadata": {},
          "execution_count": 84
        }
      ]
    },
    {
      "cell_type": "code",
      "source": [
        "'3.14159265359'.zfill(5)"
      ],
      "metadata": {
        "colab": {
          "base_uri": "https://localhost:8080/",
          "height": 35
        },
        "id": "nqP4S0mijJmI",
        "outputId": "57848a43-acb9-438a-8fb7-590c7664aa41"
      },
      "execution_count": 85,
      "outputs": [
        {
          "output_type": "execute_result",
          "data": {
            "text/plain": [
              "'3.14159265359'"
            ],
            "application/vnd.google.colaboratory.intrinsic+json": {
              "type": "string"
            }
          },
          "metadata": {},
          "execution_count": 85
        }
      ]
    },
    {
      "cell_type": "markdown",
      "source": [
        "### Formatação de string à moda antiga"
      ],
      "metadata": {
        "id": "6WcNvTj0jTs_"
      }
    },
    {
      "cell_type": "code",
      "source": [
        "import math"
      ],
      "metadata": {
        "id": "Ac__0jXqjQ48"
      },
      "execution_count": 86,
      "outputs": []
    },
    {
      "cell_type": "code",
      "source": [
        "print('The value of pi is approximately %5.3f.' % math.pi)"
      ],
      "metadata": {
        "colab": {
          "base_uri": "https://localhost:8080/"
        },
        "id": "gDmeaQeLjarF",
        "outputId": "a892b1ca-d8bf-44cd-c821-7388ba0e8b1b"
      },
      "execution_count": 87,
      "outputs": [
        {
          "output_type": "stream",
          "name": "stdout",
          "text": [
            "The value of pi is approximately 3.142.\n"
          ]
        }
      ]
    },
    {
      "cell_type": "markdown",
      "source": [
        "## Leitura e escrita de arquivos"
      ],
      "metadata": {
        "id": "2DdfO56-jnzA"
      }
    },
    {
      "cell_type": "code",
      "source": [
        "f = open('workfile', 'w', encoding=\"utf-8\")"
      ],
      "metadata": {
        "id": "ZAL8XOG9jiTM"
      },
      "execution_count": 88,
      "outputs": []
    },
    {
      "cell_type": "code",
      "source": [
        "with open('workfile', encoding=\"utf-8\") as f:\n",
        "    read_data = f.read()"
      ],
      "metadata": {
        "id": "3LTGfpo5jxuN"
      },
      "execution_count": 89,
      "outputs": []
    },
    {
      "cell_type": "code",
      "source": [
        "# We can check that the file has been automatically closed.\n",
        "f.closed"
      ],
      "metadata": {
        "colab": {
          "base_uri": "https://localhost:8080/"
        },
        "id": "edAfjWdMkbj-",
        "outputId": "5b20b1fd-18ef-40fa-f01f-239053dc716f"
      },
      "execution_count": 90,
      "outputs": [
        {
          "output_type": "execute_result",
          "data": {
            "text/plain": [
              "True"
            ]
          },
          "metadata": {},
          "execution_count": 90
        }
      ]
    },
    {
      "cell_type": "code",
      "source": [
        "f.close()"
      ],
      "metadata": {
        "id": "fyphvmegkkXt"
      },
      "execution_count": 91,
      "outputs": []
    },
    {
      "cell_type": "code",
      "source": [
        "f.read()"
      ],
      "metadata": {
        "colab": {
          "base_uri": "https://localhost:8080/",
          "height": 175
        },
        "id": "Qh-iB67ckwd-",
        "outputId": "a24e5364-e287-4553-b5fa-d4933a8ec0ea"
      },
      "execution_count": 92,
      "outputs": [
        {
          "output_type": "error",
          "ename": "ValueError",
          "evalue": "ignored",
          "traceback": [
            "\u001b[0;31m---------------------------------------------------------------------------\u001b[0m",
            "\u001b[0;31mValueError\u001b[0m                                Traceback (most recent call last)",
            "\u001b[0;32m<ipython-input-92-571e9fb02258>\u001b[0m in \u001b[0;36m<cell line: 1>\u001b[0;34m()\u001b[0m\n\u001b[0;32m----> 1\u001b[0;31m \u001b[0mf\u001b[0m\u001b[0;34m.\u001b[0m\u001b[0mread\u001b[0m\u001b[0;34m(\u001b[0m\u001b[0;34m)\u001b[0m\u001b[0;34m\u001b[0m\u001b[0;34m\u001b[0m\u001b[0m\n\u001b[0m",
            "\u001b[0;31mValueError\u001b[0m: I/O operation on closed file."
          ]
        }
      ]
    },
    {
      "cell_type": "markdown",
      "source": [
        "### Métodos de objetos arquivo"
      ],
      "metadata": {
        "id": "kOeys_30k0aI"
      }
    },
    {
      "cell_type": "code",
      "source": [
        "with open('workfile', encoding=\"utf-8\") as f:\n",
        "    f.read()"
      ],
      "metadata": {
        "id": "wPR9n-uZkxWf"
      },
      "execution_count": 101,
      "outputs": []
    },
    {
      "cell_type": "code",
      "source": [
        "f = open('workfile', encoding=\"utf-8\")"
      ],
      "metadata": {
        "id": "4Sf8-O-UlwfT"
      },
      "execution_count": 126,
      "outputs": []
    },
    {
      "cell_type": "code",
      "source": [
        "f.read()"
      ],
      "metadata": {
        "colab": {
          "base_uri": "https://localhost:8080/",
          "height": 35
        },
        "id": "BeiVNO_UmGr-",
        "outputId": "987c467d-d862-4ff3-926b-0b62290fac84"
      },
      "execution_count": 108,
      "outputs": [
        {
          "output_type": "execute_result",
          "data": {
            "text/plain": [
              "'This is the entire file.\\\\n'"
            ],
            "application/vnd.google.colaboratory.intrinsic+json": {
              "type": "string"
            }
          },
          "metadata": {},
          "execution_count": 108
        }
      ]
    },
    {
      "cell_type": "code",
      "source": [
        "f.read()"
      ],
      "metadata": {
        "colab": {
          "base_uri": "https://localhost:8080/",
          "height": 35
        },
        "id": "hZEJOEnlmrwW",
        "outputId": "10281287-71df-4bd3-e2f4-3406b81e7145"
      },
      "execution_count": 114,
      "outputs": [
        {
          "output_type": "execute_result",
          "data": {
            "text/plain": [
              "''"
            ],
            "application/vnd.google.colaboratory.intrinsic+json": {
              "type": "string"
            }
          },
          "metadata": {},
          "execution_count": 114
        }
      ]
    },
    {
      "cell_type": "code",
      "source": [
        "f.readline()"
      ],
      "metadata": {
        "colab": {
          "base_uri": "https://localhost:8080/",
          "height": 35
        },
        "id": "VRHOVnsbmtWl",
        "outputId": "557b63ee-1642-499b-af44-c95ca5c62d25"
      },
      "execution_count": 120,
      "outputs": [
        {
          "output_type": "execute_result",
          "data": {
            "text/plain": [
              "'This is the entire file.\\\\n\\n'"
            ],
            "application/vnd.google.colaboratory.intrinsic+json": {
              "type": "string"
            }
          },
          "metadata": {},
          "execution_count": 120
        }
      ]
    },
    {
      "cell_type": "code",
      "source": [
        "f.readline()"
      ],
      "metadata": {
        "colab": {
          "base_uri": "https://localhost:8080/",
          "height": 35
        },
        "id": "EnmZujlanDZm",
        "outputId": "6c1c9194-0397-4b66-e080-393ef9976b5a"
      },
      "execution_count": 121,
      "outputs": [
        {
          "output_type": "execute_result",
          "data": {
            "text/plain": [
              "'Second line of the file\\\\n'"
            ],
            "application/vnd.google.colaboratory.intrinsic+json": {
              "type": "string"
            }
          },
          "metadata": {},
          "execution_count": 121
        }
      ]
    },
    {
      "cell_type": "code",
      "source": [
        "for line in f:\n",
        "    print(line, end='')"
      ],
      "metadata": {
        "colab": {
          "base_uri": "https://localhost:8080/"
        },
        "id": "PHGXmEdXnOkG",
        "outputId": "a9c5a1b2-5a05-4134-91ca-cdde3d20a191"
      },
      "execution_count": 124,
      "outputs": [
        {
          "output_type": "stream",
          "name": "stdout",
          "text": [
            "This is the entire file.\\n\n",
            "Second line of the file\\n"
          ]
        }
      ]
    },
    {
      "cell_type": "code",
      "source": [
        "f = open('workfile', 'w', encoding=\"utf-8\")"
      ],
      "metadata": {
        "id": "JOoYCcsHnrC0"
      },
      "execution_count": 130,
      "outputs": []
    },
    {
      "cell_type": "code",
      "source": [
        "f.write('This is a test\\n')"
      ],
      "metadata": {
        "colab": {
          "base_uri": "https://localhost:8080/"
        },
        "id": "eKnLnkf4nw0v",
        "outputId": "6c85df12-2b84-4a43-fab8-fd9b3eef5a4f"
      },
      "execution_count": 131,
      "outputs": [
        {
          "output_type": "execute_result",
          "data": {
            "text/plain": [
              "15"
            ]
          },
          "metadata": {},
          "execution_count": 131
        }
      ]
    },
    {
      "cell_type": "code",
      "source": [
        "value = ('the answer', 42)"
      ],
      "metadata": {
        "id": "itblj_8Cn_FX"
      },
      "execution_count": 132,
      "outputs": []
    },
    {
      "cell_type": "code",
      "source": [
        "s = str(value)     # convert the tuple to string"
      ],
      "metadata": {
        "id": "WnqAPb5roLJI"
      },
      "execution_count": 133,
      "outputs": []
    },
    {
      "cell_type": "code",
      "source": [
        "f.write(s)"
      ],
      "metadata": {
        "colab": {
          "base_uri": "https://localhost:8080/"
        },
        "id": "M68uEwi8oOjH",
        "outputId": "d8f0da5f-e1f1-4b1e-bf20-46ebc4f0a6f3"
      },
      "execution_count": 134,
      "outputs": [
        {
          "output_type": "execute_result",
          "data": {
            "text/plain": [
              "18"
            ]
          },
          "metadata": {},
          "execution_count": 134
        }
      ]
    },
    {
      "cell_type": "code",
      "source": [
        "f = open('workfile', 'rb+')"
      ],
      "metadata": {
        "id": "nFQ96_eDoPm3"
      },
      "execution_count": 135,
      "outputs": []
    },
    {
      "cell_type": "code",
      "source": [
        "f.write(b'0123456789abcdef')"
      ],
      "metadata": {
        "colab": {
          "base_uri": "https://localhost:8080/"
        },
        "id": "pt1tMiujoZbf",
        "outputId": "a46f692e-06b3-4d1e-92d0-87337dc07bf7"
      },
      "execution_count": 136,
      "outputs": [
        {
          "output_type": "execute_result",
          "data": {
            "text/plain": [
              "16"
            ]
          },
          "metadata": {},
          "execution_count": 136
        }
      ]
    },
    {
      "cell_type": "code",
      "source": [
        "f.seek(5)"
      ],
      "metadata": {
        "colab": {
          "base_uri": "https://localhost:8080/"
        },
        "id": "srf48W87oexf",
        "outputId": "be679d8d-dadd-41a3-a4b6-c606b812d5dd"
      },
      "execution_count": 137,
      "outputs": [
        {
          "output_type": "execute_result",
          "data": {
            "text/plain": [
              "5"
            ]
          },
          "metadata": {},
          "execution_count": 137
        }
      ]
    },
    {
      "cell_type": "code",
      "source": [
        "f.read(1)"
      ],
      "metadata": {
        "colab": {
          "base_uri": "https://localhost:8080/"
        },
        "id": "8bZHV9ZsooCI",
        "outputId": "d0c3cb1c-05ca-444e-a49c-83cc2dc92714"
      },
      "execution_count": 138,
      "outputs": [
        {
          "output_type": "execute_result",
          "data": {
            "text/plain": [
              "b'5'"
            ]
          },
          "metadata": {},
          "execution_count": 138
        }
      ]
    },
    {
      "cell_type": "code",
      "source": [
        "f.seek(-3, 2)"
      ],
      "metadata": {
        "colab": {
          "base_uri": "https://localhost:8080/"
        },
        "id": "hii1vfB4opPe",
        "outputId": "acafd95b-1218-4b17-8bf9-9c4ce29d8391"
      },
      "execution_count": 139,
      "outputs": [
        {
          "output_type": "execute_result",
          "data": {
            "text/plain": [
              "30"
            ]
          },
          "metadata": {},
          "execution_count": 139
        }
      ]
    },
    {
      "cell_type": "code",
      "source": [
        "f.read(1)"
      ],
      "metadata": {
        "colab": {
          "base_uri": "https://localhost:8080/"
        },
        "id": "18kGCvgEosZ3",
        "outputId": "05294f6e-64fd-4ccd-c614-995a43cd6106"
      },
      "execution_count": 140,
      "outputs": [
        {
          "output_type": "execute_result",
          "data": {
            "text/plain": [
              "b'4'"
            ]
          },
          "metadata": {},
          "execution_count": 140
        }
      ]
    },
    {
      "cell_type": "markdown",
      "source": [
        "### Gravando dados estruturados com *json*"
      ],
      "metadata": {
        "id": "Kt4aJn0Do1bV"
      }
    },
    {
      "cell_type": "code",
      "source": [
        "import json"
      ],
      "metadata": {
        "id": "LlW8Gb2lotx2"
      },
      "execution_count": 141,
      "outputs": []
    },
    {
      "cell_type": "code",
      "source": [
        "x = [1, 'simple', 'list']"
      ],
      "metadata": {
        "id": "_SxUaUrgo65r"
      },
      "execution_count": 142,
      "outputs": []
    },
    {
      "cell_type": "code",
      "source": [
        "json.dumps(x)"
      ],
      "metadata": {
        "colab": {
          "base_uri": "https://localhost:8080/",
          "height": 35
        },
        "id": "RCHgXzLbo9OH",
        "outputId": "ff910a51-4709-4de0-8f17-cc6d904f0f91"
      },
      "execution_count": 143,
      "outputs": [
        {
          "output_type": "execute_result",
          "data": {
            "text/plain": [
              "'[1, \"simple\", \"list\"]'"
            ],
            "application/vnd.google.colaboratory.intrinsic+json": {
              "type": "string"
            }
          },
          "metadata": {},
          "execution_count": 143
        }
      ]
    }
  ]
}